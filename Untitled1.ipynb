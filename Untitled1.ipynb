{
  "nbformat": 4,
  "nbformat_minor": 0,
  "metadata": {
    "colab": {
      "name": "Untitled1.ipynb",
      "provenance": [],
      "authorship_tag": "ABX9TyM3ENA7RGvRkbU0YiX76KIx",
      "include_colab_link": true
    },
    "kernelspec": {
      "name": "python3",
      "display_name": "Python 3"
    },
    "language_info": {
      "name": "python"
    }
  },
  "cells": [
    {
      "cell_type": "markdown",
      "metadata": {
        "id": "view-in-github",
        "colab_type": "text"
      },
      "source": [
        "<a href=\"https://colab.research.google.com/github/harshavardhavarma/ML2021/blob/main/Untitled1.ipynb\" target=\"_parent\"><img src=\"https://colab.research.google.com/assets/colab-badge.svg\" alt=\"Open In Colab\"/></a>"
      ]
    },
    {
      "cell_type": "markdown",
      "metadata": {
        "id": "B_5ZEjuoHR8t"
      },
      "source": [
        "ADDITION TWO NUMBERS "
      ]
    },
    {
      "cell_type": "code",
      "metadata": {
        "colab": {
          "base_uri": "https://localhost:8080/"
        },
        "id": "9U08Gqe_Hpr_",
        "outputId": "fc16a3d4-a8fd-45af-a905-8a49dfd28382"
      },
      "source": [
        "a=int(input(\"please enter a number :\"))\n",
        "b=int(input(\"please enter another number :\"))\n",
        "sum=a+b\n",
        "print(\"the sum of two numbers is :\",sum)"
      ],
      "execution_count": 1,
      "outputs": [
        {
          "output_type": "stream",
          "text": [
            "please enter a number :12\n",
            "please enter another number :35\n",
            "the sum of two numbers is : 47\n"
          ],
          "name": "stdout"
        }
      ]
    },
    {
      "cell_type": "markdown",
      "metadata": {
        "id": "Mt4l9sIWId6k"
      },
      "source": [
        "Last digit of integer"
      ]
    },
    {
      "cell_type": "code",
      "metadata": {
        "colab": {
          "base_uri": "https://localhost:8080/"
        },
        "id": "ceLbK1dtJ5fD",
        "outputId": "f6206fb2-078f-407a-9f62-d457888fc942"
      },
      "source": [
        "a=int(input(\"PLEASE ENTER YOUR NUMBER :\"))\n",
        "print(\"last digit of integer is : \" ,a%10)"
      ],
      "execution_count": 4,
      "outputs": [
        {
          "output_type": "stream",
          "text": [
            "PLEASE ENTER YOUR NUMBER :1000\n",
            "last digit of integer is :  0\n"
          ],
          "name": "stdout"
        }
      ]
    },
    {
      "cell_type": "markdown",
      "metadata": {
        "id": "iD3vcgxsKVZg"
      },
      "source": [
        "Minimum of two numbers\n"
      ]
    },
    {
      "cell_type": "code",
      "metadata": {
        "colab": {
          "base_uri": "https://localhost:8080/"
        },
        "id": "EyFsgIgXK_if",
        "outputId": "91ccdc25-c7cc-4095-fbf9-45a6f4b2dd11"
      },
      "source": [
        "a =int(input(\"please enter your number :\"))\n",
        "b =int(input(\"please enter your number :\"))\n",
        "if a>b :\n",
        "    print(b ,\" is the smallest number\")\n",
        "else :\n",
        "    print(a,\"is the smallest number\")"
      ],
      "execution_count": 6,
      "outputs": [
        {
          "output_type": "stream",
          "text": [
            "please enter your number :2\n",
            "please enter your number :5\n",
            "2 is the smallest number\n"
          ],
          "name": "stdout"
        }
      ]
    }
  ]
}